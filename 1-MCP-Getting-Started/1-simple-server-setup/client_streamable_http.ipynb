{
 "cells": [
  {
   "cell_type": "markdown",
   "id": "22936321",
   "metadata": {},
   "source": [
    "### Make sure:\n",
    "1. The server is running before running this script.\n",
    "2. Update .env file TRANSPORT=streamable-http\n",
    "3. The server is listening on port 8050.\n",
    "\n",
    "To run the server:\n",
    "`uv run server.py`"
   ]
  },
  {
   "cell_type": "code",
   "execution_count": 1,
   "id": "6761031b",
   "metadata": {},
   "outputs": [],
   "source": [
    "import asyncio\n",
    "import nest_asyncio\n",
    "from mcp import ClientSession\n",
    "from mcp.client.streamable_http import streamablehttp_client\n",
    "\n",
    "nest_asyncio.apply()  # Needed to run interactive python"
   ]
  },
  {
   "cell_type": "code",
   "execution_count": 2,
   "id": "51c4c92d",
   "metadata": {},
   "outputs": [],
   "source": [
    "STREAMABLE_HTTP_URL = \"http://localhost:8050/mcp\""
   ]
  },
  {
   "cell_type": "code",
   "execution_count": 3,
   "id": "3891e44f",
   "metadata": {},
   "outputs": [],
   "source": [
    "async def main():\n",
    "    # Connect to the server using Streamable HTTP\n",
    "    async with streamablehttp_client(STREAMABLE_HTTP_URL) as (read_stream, write_stream, get_session_id):\n",
    "        async with ClientSession(read_stream, write_stream) as session:\n",
    "            await session.initialize()\n",
    "\n",
    "            # List available tools\n",
    "            tools_result = await session.list_tools()\n",
    "            print(\"Available tools:\")\n",
    "            for i, tool in enumerate(tools_result.tools):\n",
    "                print(f\"  {i+1}. {tool.name}: {tool.description}\")\n",
    "\n",
    "            # Get user selection\n",
    "            choice = input(\"Select tool (1-4): \")\n",
    "            tool_name = tools_result.tools[int(choice)-1].name\n",
    "            \n",
    "            # Get numbers\n",
    "            a = int(input(\"Enter first number: \"))\n",
    "            b = int(input(\"Enter second number: \"))\n",
    "\n",
    "            # Call selected tool\n",
    "            result = await session.call_tool(tool_name, arguments={\"a\": a, \"b\": b})\n",
    "            print(f\"{a} {get_operator(tool_name)} {b} = {result.content[0].text}\")\n",
    "\n",
    "def get_operator(tool_name):\n",
    "    operators = {\"add\": \"+\", \"subtract\": \"-\", \"multiply\": \"*\", \"divide\": \"/\"}\n",
    "    return operators.get(tool_name, \"?\")"
   ]
  },
  {
   "cell_type": "code",
   "execution_count": 4,
   "id": "5a32c487",
   "metadata": {},
   "outputs": [
    {
     "name": "stdout",
     "output_type": "stream",
     "text": [
      "Available tools:\n",
      "  1. add: Add two numbers\n",
      "  2. subtract: Subtract two numbers\n",
      "  3. multiply: Multiply two numbers\n",
      "  4. divide: Divide two numbers\n",
      "10 - 3 = 7\n"
     ]
    }
   ],
   "source": [
    "asyncio.run(main())"
   ]
  },
  {
   "cell_type": "code",
   "execution_count": null,
   "id": "c7cc7788",
   "metadata": {},
   "outputs": [],
   "source": []
  }
 ],
 "metadata": {
  "kernelspec": {
   "display_name": "1-MCP-Getting-Started",
   "language": "python",
   "name": "python3"
  },
  "language_info": {
   "codemirror_mode": {
    "name": "ipython",
    "version": 3
   },
   "file_extension": ".py",
   "mimetype": "text/x-python",
   "name": "python",
   "nbconvert_exporter": "python",
   "pygments_lexer": "ipython3",
   "version": "3.13.2"
  }
 },
 "nbformat": 4,
 "nbformat_minor": 5
}
